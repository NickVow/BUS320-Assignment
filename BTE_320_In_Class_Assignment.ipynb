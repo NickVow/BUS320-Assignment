{
  "nbformat": 4,
  "nbformat_minor": 0,
  "metadata": {
    "colab": {
      "provenance": [],
      "authorship_tag": "ABX9TyOi3P8oFTSXhOOOQ+sXsopD",
      "include_colab_link": true
    },
    "kernelspec": {
      "name": "python3",
      "display_name": "Python 3"
    },
    "language_info": {
      "name": "python"
    }
  },
  "cells": [
    {
      "cell_type": "markdown",
      "metadata": {
        "id": "view-in-github",
        "colab_type": "text"
      },
      "source": [
        "<a href=\"https://colab.research.google.com/github/NickVow/BUS320-Assignments/blob/main/BTE_320_In_Class_Assignment.ipynb\" target=\"_parent\"><img src=\"https://colab.research.google.com/assets/colab-badge.svg\" alt=\"Open In Colab\"/></a>"
      ]
    },
    {
      "cell_type": "code",
      "execution_count": null,
      "metadata": {
        "colab": {
          "base_uri": "https://localhost:8080/"
        },
        "id": "wbiLWWglyp8k",
        "outputId": "761f94e2-2f46-4a05-a9ea-3e3d6f715363"
      },
      "outputs": [
        {
          "output_type": "stream",
          "name": "stdout",
          "text": [
            "244.92000000000002\n"
          ]
        }
      ],
      "source": [
        "r = 3\n",
        "h = 10\n",
        "pi = 3.14\n",
        "\n",
        "area = 2 * pi * r ** 2 + 2 * pi * r * h\n",
        "print(area)"
      ]
    },
    {
      "cell_type": "markdown",
      "source": [
        "Surface area of a Cylander:\n",
        "\n",
        "h = 10\n",
        "\n",
        "\n",
        "r = 3\n",
        "\n",
        "\n",
        "2Pir^2 + 2Pirh"
      ],
      "metadata": {
        "id": "3M19J2Syys-r"
      }
    },
    {
      "cell_type": "code",
      "source": [
        "Player_1 = input('Player 1 sign throw (rock/paper/scissors):')\n",
        "Player_2 = input('Player 2 sign throw (rock/paper/scissors):')\n",
        "\n",
        "if Player_1 == Player_2:\n",
        "  print('Draw')\n",
        "elif (Player_1 == 'rock' and Player_2 == 'scissors') or (Player_1 == 'scissors' and Player_2 == 'paper') or (Player_1 == 'paper' and Player_2 == 'rock'):\n",
        "  print('Player 1 wins')\n",
        "else:\n",
        "  print('Player 2 wins')\n"
      ],
      "metadata": {
        "colab": {
          "base_uri": "https://localhost:8080/"
        },
        "id": "Rl3kyxCzSIn4",
        "outputId": "95ed391b-3b35-42cf-a198-d9d3764fae57"
      },
      "execution_count": null,
      "outputs": [
        {
          "output_type": "stream",
          "name": "stdout",
          "text": [
            "Player 1 sign throw (rock/paper/scissors):rock\n",
            "Player 2 sign throw (rock/paper/scissors):paper\n",
            "Player 2 wins\n"
          ]
        }
      ]
    },
    {
      "cell_type": "code",
      "source": [
        "N1 = float(input('First Number = '))\n",
        "S = input('Operation (+, -, *, /, **) ')\n",
        "N2 = float(input('Second Number = '))\n",
        "if S == '+':\n",
        "   print(f' {N1} + {N2} = {N1 + N2}')\n",
        "elif S == '-':\n",
        "   print(f' {N1} - {N2} = {N1 - N2}')\n",
        "elif S == '*':\n",
        "   print(f' {N1} * {N2} = {N1 * N2}')\n",
        "elif S == '/':\n",
        "   print(f' {N1} / {N2} = {N1 / N2}')\n",
        "elif S == '**':\n",
        "   print(f' {N1} ** {N2} = {N1 ** N2}')\n"
      ],
      "metadata": {
        "colab": {
          "base_uri": "https://localhost:8080/"
        },
        "id": "8BIoWAC69ILm",
        "outputId": "dfecf43b-25e7-498e-eb45-464a4ae32d56"
      },
      "execution_count": null,
      "outputs": [
        {
          "output_type": "stream",
          "name": "stdout",
          "text": [
            "First Number = 20\n",
            "Operation (+, -, *, /, **) /\n",
            "Second Number = 5\n",
            " 20.0 / 5.0 = 4.0\n"
          ]
        }
      ]
    }
  ]
}