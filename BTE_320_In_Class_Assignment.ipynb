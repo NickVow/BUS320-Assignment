{
  "nbformat": 4,
  "nbformat_minor": 0,
  "metadata": {
    "colab": {
      "provenance": [],
      "authorship_tag": "ABX9TyNxfXVtJiuiPb8/wKBuozYM",
      "include_colab_link": true
    },
    "kernelspec": {
      "name": "python3",
      "display_name": "Python 3"
    },
    "language_info": {
      "name": "python"
    }
  },
  "cells": [
    {
      "cell_type": "markdown",
      "metadata": {
        "id": "view-in-github",
        "colab_type": "text"
      },
      "source": [
        "<a href=\"https://colab.research.google.com/github/NickVow/BUS320-Assignments/blob/main/BTE_320_In_Class_Assignment.ipynb\" target=\"_parent\"><img src=\"https://colab.research.google.com/assets/colab-badge.svg\" alt=\"Open In Colab\"/></a>"
      ]
    },
    {
      "cell_type": "code",
      "execution_count": null,
      "metadata": {
        "colab": {
          "base_uri": "https://localhost:8080/"
        },
        "id": "wbiLWWglyp8k",
        "outputId": "761f94e2-2f46-4a05-a9ea-3e3d6f715363"
      },
      "outputs": [
        {
          "output_type": "stream",
          "name": "stdout",
          "text": [
            "244.92000000000002\n"
          ]
        }
      ],
      "source": [
        "# Shape Area Calculator\n",
        "\n",
        "r = 3\n",
        "h = 10\n",
        "pi = 3.14\n",
        "\n",
        "area = 2 * pi * r ** 2 + 2 * pi * r * h\n",
        "print(area)"
      ]
    },
    {
      "cell_type": "code",
      "source": [
        "# Numerical Calculator\n",
        "\n",
        "N1 = float(input('First Number = '))\n",
        "S = input('Operation (+, -, *, /, **) ')\n",
        "N2 = float(input('Second Number = '))\n",
        "if S == '+':\n",
        "   print(f' {N1} + {N2} = {N1 + N2}')\n",
        "elif S == '-':\n",
        "   print(f' {N1} - {N2} = {N1 - N2}')\n",
        "elif S == '*':\n",
        "   print(f' {N1} * {N2} = {N1 * N2}')\n",
        "elif S == '/':\n",
        "   print(f' {N1} / {N2} = {N1 / N2}')\n",
        "elif S == '**':\n",
        "   print(f' {N1} ** {N2} = {N1 ** N2}')\n"
      ],
      "metadata": {
        "colab": {
          "base_uri": "https://localhost:8080/"
        },
        "id": "8BIoWAC69ILm",
        "outputId": "dfecf43b-25e7-498e-eb45-464a4ae32d56"
      },
      "execution_count": null,
      "outputs": [
        {
          "output_type": "stream",
          "name": "stdout",
          "text": [
            "First Number = 20\n",
            "Operation (+, -, *, /, **) /\n",
            "Second Number = 5\n",
            " 20.0 / 5.0 = 4.0\n"
          ]
        }
      ]
    },
    {
      "source": [
        "# Rock-paper-scissors Game (with \"while\" loop)\n",
        "\n",
        "import random\n",
        "\n",
        "c = input('Would you like to play a game?')\n",
        "while c == 'yes':\n",
        "   Player_1 = input('Choose a sign to throw (rock/paper/scissors):')\n",
        "   Player_2 = random.choice(['rock', 'paper', 'scissors'])\n",
        "   print('Computer chooses', Player_2)\n",
        "   if Player_1 == Player_2:\n",
        "      print('Draw')\n",
        "   elif (Player_1 == 'rock' and Player_2 == 'scissors') or (Player_1 == 'scissors' and Player_2 == 'paper') or (Player_1 == 'paper' and Player_2 == 'rock'):\n",
        "       print('You win!')\n",
        "   else:\n",
        "       print('You lose...')\n",
        "   c = input('Would you like to play another game?')"
      ],
      "cell_type": "code",
      "metadata": {
        "colab": {
          "base_uri": "https://localhost:8080/"
        },
        "id": "RdrjkKg6-vvD",
        "outputId": "d336474b-ce66-4df4-ed38-830b8dcfbbb7"
      },
      "execution_count": null,
      "outputs": [
        {
          "name": "stdout",
          "output_type": "stream",
          "text": [
            "Would you like to play a game?yes\n",
            "Choose a sign to throw (rock/paper/scissors):rock\n",
            "Computer chooses paper\n",
            "You lose...\n",
            "Would you like to play another game?yes\n",
            "Choose a sign to throw (rock/paper/scissors):paper\n",
            "Computer chooses paper\n",
            "Draw\n",
            "Would you like to play another game?yes\n",
            "Choose a sign to throw (rock/paper/scissors):scissors\n",
            "Computer chooses scissors\n",
            "Draw\n",
            "Would you like to play another game?yes\n",
            "Choose a sign to throw (rock/paper/scissors):rock\n",
            "Computer chooses rock\n",
            "Draw\n",
            "Would you like to play another game?yes\n",
            "Choose a sign to throw (rock/paper/scissors):rock\n",
            "Computer chooses paper\n",
            "You lose...\n",
            "Would you like to play another game?yes\n",
            "Choose a sign to throw (rock/paper/scissors):paper\n",
            "Computer chooses scissors\n",
            "You lose...\n",
            "Would you like to play another game?yes\n",
            "Choose a sign to throw (rock/paper/scissors):paper\n",
            "Computer chooses paper\n",
            "Draw\n",
            "Would you like to play another game?yes\n",
            "Choose a sign to throw (rock/paper/scissors):rock\n",
            "Computer chooses rock\n",
            "Draw\n",
            "Would you like to play another game?yes\n",
            "Choose a sign to throw (rock/paper/scissors):rock\n",
            "Computer chooses rock\n",
            "Draw\n",
            "Would you like to play another game?yes\n",
            "Choose a sign to throw (rock/paper/scissors):scissors\n",
            "Computer chooses scissors\n",
            "Draw\n",
            "Would you like to play another game?yes\n",
            "Choose a sign to throw (rock/paper/scissors):paper\n",
            "Computer chooses scissors\n",
            "You lose...\n",
            "Would you like to play another game?yes\n",
            "Choose a sign to throw (rock/paper/scissors):paper\n",
            "Computer chooses rock\n",
            "You win!\n",
            "Would you like to play another game?no\n"
          ]
        }
      ]
    },
    {
      "cell_type": "code",
      "source": [
        "# Parking Garage\n",
        "\n",
        "flat = 5\n",
        "\n",
        "for t in range(1, 9):\n",
        "    charge = flat + 2.5 * t\n",
        "    if charge < 10:\n",
        "      charge = 10\n",
        "    elif charge > 20:\n",
        "      charge = 20\n",
        "    print(t,charge)\n",
        "\n"
      ],
      "metadata": {
        "colab": {
          "base_uri": "https://localhost:8080/"
        },
        "id": "RLHetkiVFTyw",
        "outputId": "bf95b0b1-4e0f-4942-d04d-e0006d243a4a"
      },
      "execution_count": null,
      "outputs": [
        {
          "output_type": "stream",
          "name": "stdout",
          "text": [
            "1 10\n",
            "2 10.0\n",
            "3 12.5\n",
            "4 15.0\n",
            "5 17.5\n",
            "6 20.0\n",
            "7 20\n",
            "8 20\n"
          ]
        }
      ]
    },
    {
      "cell_type": "code",
      "source": [
        "# Movie Theatre\n",
        "\n",
        "ticketPrice = 10\n",
        "fixedCost = 200\n",
        "standardAttendees = 20\n",
        "\n",
        "for advertising in range(0, 201, 25):\n",
        "   profit = 10 * (standardAttendees + 2 * round(advertising**0.5)) - fixedCost - advertising\n",
        "   print(advertising,profit)\n"
      ],
      "metadata": {
        "colab": {
          "base_uri": "https://localhost:8080/"
        },
        "id": "RHFgY5S7LKDw",
        "outputId": "4a192ce6-4c69-4349-c7a8-432bbca4adad"
      },
      "execution_count": null,
      "outputs": [
        {
          "output_type": "stream",
          "name": "stdout",
          "text": [
            "0 0\n",
            "25 75\n",
            "50 90\n",
            "75 105\n",
            "100 100\n",
            "125 95\n",
            "150 90\n",
            "175 85\n",
            "200 80\n"
          ]
        }
      ]
    },
    {
      "cell_type": "code",
      "source": [
        "# Months2Numbers Dictionary\n",
        "\n",
        "months = {}\n",
        "names = ['January', 'February', 'March', 'April', 'May', 'June', 'July', 'August', 'September', 'October', 'November', 'December']\n",
        "numbers = [1, 2, 3, 4, 5, 6, 7, 8, 9, 10, 11, 12]\n",
        "for i in range (len(numbers)):\n",
        "  months[numbers[i]] = names[i]\n",
        "print(months)\n"
      ],
      "metadata": {
        "colab": {
          "base_uri": "https://localhost:8080/"
        },
        "id": "LcqGiXi3LD5H",
        "outputId": "9489aec3-6edd-499e-eb68-08df90a84cd8"
      },
      "execution_count": null,
      "outputs": [
        {
          "output_type": "stream",
          "name": "stdout",
          "text": [
            "{1: 'January', 2: 'February', 3: 'March', 4: 'April', 5: 'May', 6: 'June', 7: 'July', 8: 'August', 9: 'September', 10: 'October', 11: 'November', 12: 'December'}\n"
          ]
        }
      ]
    },
    {
      "cell_type": "code",
      "source": [
        "# Fee Calculation and Display Functions\n",
        "\n",
        "def calcfee(hours, decimals=2):\n",
        "    fee = 5 + hours * 2.5\n",
        "    fee = round(fee, decimals)\n",
        "    return fee\n",
        "\n",
        "def displayfee(fee):\n",
        "    print(f\"Fee is {fee}\")\n",
        "\n",
        "h = int(input('Enter hours: '))\n",
        "fee = calcfee(h)\n",
        "displayfee(fee)\n"
      ],
      "metadata": {
        "colab": {
          "base_uri": "https://localhost:8080/"
        },
        "id": "XB45UAfKAxlC",
        "outputId": "029ec344-1eaa-4b54-9b87-cc5b4566e9d1"
      },
      "execution_count": null,
      "outputs": [
        {
          "output_type": "stream",
          "name": "stdout",
          "text": [
            "Enter hours: 15\n",
            "Fee is 42.5\n"
          ]
        }
      ]
    },
    {
      "cell_type": "code",
      "source": [
        "# Reverse Function (recursion)\n",
        "\n",
        "def rev(s):\n",
        "    if len(s) <= 1:\n",
        "        return s\n",
        "    else:\n",
        "        return s[-1] + rev(s[:-1])\n",
        "\n",
        "print(rev(\"Hello\"))\n"
      ],
      "metadata": {
        "id": "7RVPwDZIb01X",
        "colab": {
          "base_uri": "https://localhost:8080/"
        },
        "outputId": "1c046f5a-6353-4e43-e2f6-608a2ab0a4eb"
      },
      "execution_count": 4,
      "outputs": [
        {
          "output_type": "stream",
          "name": "stdout",
          "text": [
            "olleH\n"
          ]
        }
      ]
    },
    {
      "cell_type": "code",
      "source": [
        "# Student Class\n",
        "\n",
        "class Student:\n",
        "    def __init__(self, name, number):\n",
        "        self.name = name\n",
        "        self.number = number\n",
        "\n",
        "s1 = Student(\"James Bond\", '007')\n",
        "s2 = Student(\"Clark Kent\", '333')\n",
        "\n",
        "s1.name"
      ],
      "metadata": {
        "id": "5jciiSUYbQWb",
        "colab": {
          "base_uri": "https://localhost:8080/",
          "height": 35
        },
        "outputId": "f659aba5-d3fd-4dd2-c22b-2439bac29c5f"
      },
      "execution_count": 3,
      "outputs": [
        {
          "output_type": "execute_result",
          "data": {
            "text/plain": [
              "'James Bond'"
            ],
            "application/vnd.google.colaboratory.intrinsic+json": {
              "type": "string"
            }
          },
          "metadata": {},
          "execution_count": 3
        }
      ]
    },
    {
      "cell_type": "code",
      "source": [
        "# Student Class enrolling courses\n",
        "\n",
        "class Student:\n",
        "  def __init__(self, name, number):\n",
        "    self.name = name\n",
        "    self.number = number\n",
        "    self.course = []\n",
        "\n",
        "  def enroll(self, course):\n",
        "    if course not in self.course:\n",
        "      self.course.append(course)\n",
        "    else:\n",
        "      print(f'You already enrolled in {course}')\n",
        "\n",
        "  def get_course(self):\n",
        "    return self.course\n",
        "\n",
        "s = Student('Bob', '123')\n",
        "s.enroll('ABC456')\n",
        "\n",
        "s.course"
      ],
      "metadata": {
        "id": "S6hndKZsS17A",
        "colab": {
          "base_uri": "https://localhost:8080/"
        },
        "outputId": "8c5a4f24-bf1d-4528-8d9c-9617603b9dab"
      },
      "execution_count": 6,
      "outputs": [
        {
          "output_type": "execute_result",
          "data": {
            "text/plain": [
              "['ABC456']"
            ]
          },
          "metadata": {},
          "execution_count": 6
        }
      ]
    }
  ]
}