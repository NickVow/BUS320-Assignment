{
  "nbformat": 4,
  "nbformat_minor": 0,
  "metadata": {
    "colab": {
      "provenance": [],
      "authorship_tag": "ABX9TyMCPHYx+1AuWePLH+p0mnZE",
      "include_colab_link": true
    },
    "kernelspec": {
      "name": "python3",
      "display_name": "Python 3"
    },
    "language_info": {
      "name": "python"
    }
  },
  "cells": [
    {
      "cell_type": "markdown",
      "metadata": {
        "id": "view-in-github",
        "colab_type": "text"
      },
      "source": [
        "<a href=\"https://colab.research.google.com/github/NickVow/BUS320-Assignments/blob/main/BTE_320_In_Class_Assignment.ipynb\" target=\"_parent\"><img src=\"https://colab.research.google.com/assets/colab-badge.svg\" alt=\"Open In Colab\"/></a>"
      ]
    },
    {
      "cell_type": "code",
      "execution_count": null,
      "metadata": {
        "colab": {
          "base_uri": "https://localhost:8080/"
        },
        "id": "wbiLWWglyp8k",
        "outputId": "761f94e2-2f46-4a05-a9ea-3e3d6f715363"
      },
      "outputs": [
        {
          "output_type": "stream",
          "name": "stdout",
          "text": [
            "244.92000000000002\n"
          ]
        }
      ],
      "source": [
        "r = 3\n",
        "h = 10\n",
        "pi = 3.14\n",
        "\n",
        "area = 2 * pi * r ** 2 + 2 * pi * r * h\n",
        "print(area)"
      ]
    },
    {
      "cell_type": "code",
      "source": [
        "Player_1 = input('Player 1 sign throw (rock/paper/scissors):')\n",
        "Player_2 = input('Player 2 sign throw (rock/paper/scissors):')\n",
        "\n",
        "if Player_1 == Player_2:\n",
        "  print('Draw')\n",
        "elif (Player_1 == 'rock' and Player_2 == 'scissors') or (Player_1 == 'scissors' and Player_2 == 'paper') or (Player_1 == 'paper' and Player_2 == 'rock'):\n",
        "  print('Player 1 wins')\n",
        "else:\n",
        "  print('Player 2 wins')\n"
      ],
      "metadata": {
        "colab": {
          "base_uri": "https://localhost:8080/"
        },
        "id": "Rl3kyxCzSIn4",
        "outputId": "95ed391b-3b35-42cf-a198-d9d3764fae57"
      },
      "execution_count": null,
      "outputs": [
        {
          "output_type": "stream",
          "name": "stdout",
          "text": [
            "Player 1 sign throw (rock/paper/scissors):rock\n",
            "Player 2 sign throw (rock/paper/scissors):paper\n",
            "Player 2 wins\n"
          ]
        }
      ]
    },
    {
      "cell_type": "code",
      "source": [
        "N1 = float(input('First Number = '))\n",
        "S = input('Operation (+, -, *, /, **) ')\n",
        "N2 = float(input('Second Number = '))\n",
        "if S == '+':\n",
        "   print(f' {N1} + {N2} = {N1 + N2}')\n",
        "elif S == '-':\n",
        "   print(f' {N1} - {N2} = {N1 - N2}')\n",
        "elif S == '*':\n",
        "   print(f' {N1} * {N2} = {N1 * N2}')\n",
        "elif S == '/':\n",
        "   print(f' {N1} / {N2} = {N1 / N2}')\n",
        "elif S == '**':\n",
        "   print(f' {N1} ** {N2} = {N1 ** N2}')\n"
      ],
      "metadata": {
        "colab": {
          "base_uri": "https://localhost:8080/"
        },
        "id": "8BIoWAC69ILm",
        "outputId": "dfecf43b-25e7-498e-eb45-464a4ae32d56"
      },
      "execution_count": null,
      "outputs": [
        {
          "output_type": "stream",
          "name": "stdout",
          "text": [
            "First Number = 20\n",
            "Operation (+, -, *, /, **) /\n",
            "Second Number = 5\n",
            " 20.0 / 5.0 = 4.0\n"
          ]
        }
      ]
    },
    {
      "source": [
        "import random\n",
        "\n",
        "c = input('Would you like to play a game?')\n",
        "while c == 'yes':\n",
        "   Player_1 = input('Choose a sign to throw (rock/paper/scissors):')\n",
        "   Player_2 = random.choice(['rock', 'paper', 'scissors'])\n",
        "   print('Computer chooses', Player_2)\n",
        "   if Player_1 == Player_2:\n",
        "      print('Draw')\n",
        "   elif (Player_1 == 'rock' and Player_2 == 'scissors') or (Player_1 == 'scissors' and Player_2 == 'paper') or (Player_1 == 'paper' and Player_2 == 'rock'):\n",
        "       print('You win!')\n",
        "   else:\n",
        "       print('You lose...')\n",
        "   c = input('Would you like to play another game?')"
      ],
      "cell_type": "code",
      "metadata": {
        "colab": {
          "base_uri": "https://localhost:8080/"
        },
        "id": "RdrjkKg6-vvD",
        "outputId": "d336474b-ce66-4df4-ed38-830b8dcfbbb7"
      },
      "execution_count": null,
      "outputs": [
        {
          "name": "stdout",
          "output_type": "stream",
          "text": [
            "Would you like to play a game?yes\n",
            "Choose a sign to throw (rock/paper/scissors):rock\n",
            "Computer chooses paper\n",
            "You lose...\n",
            "Would you like to play another game?yes\n",
            "Choose a sign to throw (rock/paper/scissors):paper\n",
            "Computer chooses paper\n",
            "Draw\n",
            "Would you like to play another game?yes\n",
            "Choose a sign to throw (rock/paper/scissors):scissors\n",
            "Computer chooses scissors\n",
            "Draw\n",
            "Would you like to play another game?yes\n",
            "Choose a sign to throw (rock/paper/scissors):rock\n",
            "Computer chooses rock\n",
            "Draw\n",
            "Would you like to play another game?yes\n",
            "Choose a sign to throw (rock/paper/scissors):rock\n",
            "Computer chooses paper\n",
            "You lose...\n",
            "Would you like to play another game?yes\n",
            "Choose a sign to throw (rock/paper/scissors):paper\n",
            "Computer chooses scissors\n",
            "You lose...\n",
            "Would you like to play another game?yes\n",
            "Choose a sign to throw (rock/paper/scissors):paper\n",
            "Computer chooses paper\n",
            "Draw\n",
            "Would you like to play another game?yes\n",
            "Choose a sign to throw (rock/paper/scissors):rock\n",
            "Computer chooses rock\n",
            "Draw\n",
            "Would you like to play another game?yes\n",
            "Choose a sign to throw (rock/paper/scissors):rock\n",
            "Computer chooses rock\n",
            "Draw\n",
            "Would you like to play another game?yes\n",
            "Choose a sign to throw (rock/paper/scissors):scissors\n",
            "Computer chooses scissors\n",
            "Draw\n",
            "Would you like to play another game?yes\n",
            "Choose a sign to throw (rock/paper/scissors):paper\n",
            "Computer chooses scissors\n",
            "You lose...\n",
            "Would you like to play another game?yes\n",
            "Choose a sign to throw (rock/paper/scissors):paper\n",
            "Computer chooses rock\n",
            "You win!\n",
            "Would you like to play another game?no\n"
          ]
        }
      ]
    },
    {
      "cell_type": "code",
      "source": [
        "flat = 5\n",
        "\n",
        "for t in range(1, 9):\n",
        "    charge = flat + 2.5 * t\n",
        "    if charge < 10:\n",
        "      charge = 10\n",
        "    elif charge > 20:\n",
        "      charge = 20\n",
        "    print(t,charge)\n",
        "\n"
      ],
      "metadata": {
        "colab": {
          "base_uri": "https://localhost:8080/"
        },
        "id": "RLHetkiVFTyw",
        "outputId": "bf95b0b1-4e0f-4942-d04d-e0006d243a4a"
      },
      "execution_count": null,
      "outputs": [
        {
          "output_type": "stream",
          "name": "stdout",
          "text": [
            "1 10\n",
            "2 10.0\n",
            "3 12.5\n",
            "4 15.0\n",
            "5 17.5\n",
            "6 20.0\n",
            "7 20\n",
            "8 20\n"
          ]
        }
      ]
    },
    {
      "cell_type": "code",
      "source": [
        "ticketPrice = 10\n",
        "fixedCost = 200\n",
        "standardAttendees = 20\n",
        "\n",
        "for advertising in range(0, 201, 25):\n",
        "   profit = 10 * (standardAttendees + 2 * round(advertising**0.5)) - fixedCost - advertising\n",
        "   print(advertising,profit)\n"
      ],
      "metadata": {
        "colab": {
          "base_uri": "https://localhost:8080/"
        },
        "id": "RHFgY5S7LKDw",
        "outputId": "4a192ce6-4c69-4349-c7a8-432bbca4adad"
      },
      "execution_count": null,
      "outputs": [
        {
          "output_type": "stream",
          "name": "stdout",
          "text": [
            "0 0\n",
            "25 75\n",
            "50 90\n",
            "75 105\n",
            "100 100\n",
            "125 95\n",
            "150 90\n",
            "175 85\n",
            "200 80\n"
          ]
        }
      ]
    },
    {
      "source": [
        "L=[]\n",
        "while True:\n",
        "  User_Input = float(input('type number '))\n",
        "  if User_Input == 0:\n",
        "    break\n",
        "  else:\n",
        "    L.append(User_Input)\n",
        "print(L)"
      ],
      "cell_type": "code",
      "metadata": {
        "colab": {
          "base_uri": "https://localhost:8080/"
        },
        "id": "JFyk6x3-GjtP",
        "outputId": "1d762a5e-4fa6-418c-ac2b-bacf8be5065b"
      },
      "execution_count": null,
      "outputs": [
        {
          "output_type": "stream",
          "name": "stdout",
          "text": [
            "type number 10\n",
            "type number 13\n",
            "type number 0\n",
            "[10.0, 13.0]\n"
          ]
        }
      ]
    },
    {
      "cell_type": "code",
      "source": [
        "months = {}\n",
        "names = ['January', 'February', 'March', 'April', 'May', 'June', 'July', 'August', 'September', 'October', 'November', 'December']\n",
        "numbers = [1, 2, 3, 4, 5, 6, 7, 8, 9, 10, 11, 12]\n",
        "for i in range (len(numbers)):\n",
        "  months[numbers[i]] = names[i]\n",
        "print(months)\n"
      ],
      "metadata": {
        "colab": {
          "base_uri": "https://localhost:8080/"
        },
        "id": "LcqGiXi3LD5H",
        "outputId": "9489aec3-6edd-499e-eb68-08df90a84cd8"
      },
      "execution_count": null,
      "outputs": [
        {
          "output_type": "stream",
          "name": "stdout",
          "text": [
            "{1: 'January', 2: 'February', 3: 'March', 4: 'April', 5: 'May', 6: 'June', 7: 'July', 8: 'August', 9: 'September', 10: 'October', 11: 'November', 12: 'December'}\n"
          ]
        }
      ]
    },
    {
      "cell_type": "code",
      "source": [
        "#10/10 In-Class Assignment 1\n",
        "\n",
        "current_savings = 0\n",
        "months = 0\n",
        "portion_down_payment = 0.25\n",
        "r = 0.04\n",
        "\n",
        "annual_salary = float(input('Enter your annual salary: '))\n",
        "portion_saved = float(input('Enter the percent of your salary to save, as a decimal: '))\n",
        "total_cost = float(input('Enter the cost of your dream home: '))\n",
        "\n",
        "while current_savings < total_cost * portion_down_payment:\n",
        "  current_savings += (annual_salary / 12) * portion_saved + current_savings * (r / 12)\n",
        "  months += 1\n",
        "\n",
        "print('Number of months:', round(months))"
      ],
      "metadata": {
        "colab": {
          "base_uri": "https://localhost:8080/"
        },
        "id": "6mLltia9cPTN",
        "outputId": "7c983439-2314-4c5a-b86f-ffbf880840b9"
      },
      "execution_count": 17,
      "outputs": [
        {
          "output_type": "stream",
          "name": "stdout",
          "text": [
            "Enter your annual salary: 120000\n",
            "Enter the percent of your salary to save, as a decimal: .10\n",
            "Enter the cost of your dream home: 1000000\n",
            "Number of months: 183\n"
          ]
        }
      ]
    },
    {
      "cell_type": "code",
      "source": [
        "#10/10 In-Class Assignment 2\n",
        "\n",
        "current_savings = 0\n",
        "months = 0\n",
        "portion_down_payment = 0.25\n",
        "r = 0.04\n",
        "\n",
        "annual_salary = float(input('Enter your annual salary: '))\n",
        "portion_saved = float(input('Enter the percent of your salary to save, as a decimal: '))\n",
        "total_cost = float(input('Enter the cost of your dream home: '))\n",
        "semi_annual_raise = float(input('Enter the semi-annual raise, as a decimal: '))\n",
        "\n",
        "while current_savings < total_cost * portion_down_payment:\n",
        "  current_savings += (annual_salary / 12) * portion_saved + current_savings * (r / 12)\n",
        "  months += 1\n",
        "  if months % 6 == 0:\n",
        "    annual_salary += annual_salary * semi_annual_raise\n",
        "\n",
        "print('Number of months:', round(months))\n",
        "\n"
      ],
      "metadata": {
        "colab": {
          "base_uri": "https://localhost:8080/"
        },
        "id": "9Xi4h31Sdlht",
        "outputId": "e1c88d15-a693-4dec-838c-cc4321b2e181"
      },
      "execution_count": 23,
      "outputs": [
        {
          "output_type": "stream",
          "name": "stdout",
          "text": [
            "Enter your annual salary: 120000\n",
            "Enter the percent of your salary to save, as a decimal: .05\n",
            "Enter the cost of your dream home: 500000\n",
            "Enter the semi-annual raise, as a decimal: .03\n",
            "Number of months: 142\n"
          ]
        }
      ]
    },
    {
      "cell_type": "code",
      "source": [
        "#10/10 In-Class Assignment 3 - Print Method\n",
        "\n",
        "number = float(input('Enter a number: '))\n",
        "low = float(input('Enter a lower bound: '))\n",
        "high = float(input('Enter a higher bound: '))\n",
        "\n",
        "def range_check(number, low, high):\n",
        "    if low <= number <= high:\n",
        "        return True\n",
        "    else:\n",
        "        return False\n",
        "print(range_check(number, low, high))\n",
        "\n",
        ""
      ],
      "metadata": {
        "colab": {
          "base_uri": "https://localhost:8080/"
        },
        "id": "7gnen7zzfQIO",
        "outputId": "29fdbafd-f512-4aa4-de8c-8cd5db42dc1a"
      },
      "execution_count": 38,
      "outputs": [
        {
          "output_type": "stream",
          "name": "stdout",
          "text": [
            "Enter a number: 1\n",
            "Enter a lower bound: 5\n",
            "Enter a higher bound: 70\n",
            "False\n"
          ]
        }
      ]
    },
    {
      "cell_type": "code",
      "source": [
        "#10/10 In-Class Assignment 3 - Boolean method\n",
        "\n",
        "def range_check(number, low, high):\n",
        "    return low <= number <= high"
      ],
      "metadata": {
        "id": "kfMnfFZ-gJ5-"
      },
      "execution_count": 41,
      "outputs": []
    },
    {
      "cell_type": "code",
      "source": [
        "#Boolean Method Continued\n",
        "\n",
        "print(range_check(3, 1, 2))\n",
        "print(range_check(3, 2, 4))"
      ],
      "metadata": {
        "colab": {
          "base_uri": "https://localhost:8080/"
        },
        "id": "ahKgQBCEioB4",
        "outputId": "22887cdc-ba57-4394-d9e3-413789d6c05b"
      },
      "execution_count": 37,
      "outputs": [
        {
          "output_type": "stream",
          "name": "stdout",
          "text": [
            "False\n",
            "True\n"
          ]
        }
      ]
    }
  ]
}