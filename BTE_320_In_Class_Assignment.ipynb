{
  "nbformat": 4,
  "nbformat_minor": 0,
  "metadata": {
    "colab": {
      "provenance": [],
      "authorship_tag": "ABX9TyOUllbafgjeOgta3UoeMeu5",
      "include_colab_link": true
    },
    "kernelspec": {
      "name": "python3",
      "display_name": "Python 3"
    },
    "language_info": {
      "name": "python"
    }
  },
  "cells": [
    {
      "cell_type": "markdown",
      "metadata": {
        "id": "view-in-github",
        "colab_type": "text"
      },
      "source": [
        "<a href=\"https://colab.research.google.com/github/NickVow/BUS320-Assignments/blob/main/BTE_320_In_Class_Assignment.ipynb\" target=\"_parent\"><img src=\"https://colab.research.google.com/assets/colab-badge.svg\" alt=\"Open In Colab\"/></a>"
      ]
    },
    {
      "cell_type": "code",
      "execution_count": null,
      "metadata": {
        "colab": {
          "base_uri": "https://localhost:8080/"
        },
        "id": "wbiLWWglyp8k",
        "outputId": "761f94e2-2f46-4a05-a9ea-3e3d6f715363"
      },
      "outputs": [
        {
          "output_type": "stream",
          "name": "stdout",
          "text": [
            "244.92000000000002\n"
          ]
        }
      ],
      "source": [
        "r = 3\n",
        "h = 10\n",
        "pi = 3.14\n",
        "\n",
        "area = 2 * pi * r ** 2 + 2 * pi * r * h\n",
        "print(area)"
      ]
    },
    {
      "cell_type": "markdown",
      "source": [
        "Surface area of a Cylander:\n",
        "\n",
        "h = 10\n",
        "\n",
        "\n",
        "r = 3\n",
        "\n",
        "\n",
        "2Pir^2 + 2Pirh"
      ],
      "metadata": {
        "id": "3M19J2Syys-r"
      }
    },
    {
      "cell_type": "code",
      "source": [
        "Player_1 = input('Player 1 sign throw (rock/paper/scissors):')\n",
        "Player_2 = input('Player 2 sign throw (rock/paper/scissors):')\n",
        "\n",
        "if Player_1 == Player_2:\n",
        "  print('Draw')\n",
        "elif (Player_1 == 'rock' and Player_2 == 'scissors') or (Player_1 == 'scissors' and Player_2 == 'paper') or (Player_1 == 'paper' and Player_2 == 'rock'):\n",
        "  print('Player 1 wins')\n",
        "else:\n",
        "  print('Player 2 wins')\n"
      ],
      "metadata": {
        "colab": {
          "base_uri": "https://localhost:8080/"
        },
        "id": "Rl3kyxCzSIn4",
        "outputId": "95ed391b-3b35-42cf-a198-d9d3764fae57"
      },
      "execution_count": null,
      "outputs": [
        {
          "output_type": "stream",
          "name": "stdout",
          "text": [
            "Player 1 sign throw (rock/paper/scissors):rock\n",
            "Player 2 sign throw (rock/paper/scissors):paper\n",
            "Player 2 wins\n"
          ]
        }
      ]
    },
    {
      "cell_type": "code",
      "source": [
        "N1 = float(input('First Number = '))\n",
        "S = input('Operation (+, -, *, /, **) ')\n",
        "N2 = float(input('Second Number = '))\n",
        "if S == '+':\n",
        "   print(f' {N1} + {N2} = {N1 + N2}')\n",
        "elif S == '-':\n",
        "   print(f' {N1} - {N2} = {N1 - N2}')\n",
        "elif S == '*':\n",
        "   print(f' {N1} * {N2} = {N1 * N2}')\n",
        "elif S == '/':\n",
        "   print(f' {N1} / {N2} = {N1 / N2}')\n",
        "elif S == '**':\n",
        "   print(f' {N1} ** {N2} = {N1 ** N2}')\n"
      ],
      "metadata": {
        "colab": {
          "base_uri": "https://localhost:8080/"
        },
        "id": "8BIoWAC69ILm",
        "outputId": "dfecf43b-25e7-498e-eb45-464a4ae32d56"
      },
      "execution_count": null,
      "outputs": [
        {
          "output_type": "stream",
          "name": "stdout",
          "text": [
            "First Number = 20\n",
            "Operation (+, -, *, /, **) /\n",
            "Second Number = 5\n",
            " 20.0 / 5.0 = 4.0\n"
          ]
        }
      ]
    },
    {
      "source": [
        "import random\n",
        "\n",
        "c = input('Would you like to play a game?')\n",
        "while c == 'yes':\n",
        "   Player_1 = input('Choose a sign to throw (rock/paper/scissors):')\n",
        "   Player_2 = random.choice(['rock', 'paper', 'scissors'])\n",
        "   print('Computer chooses', Player_2)\n",
        "   if Player_1 == Player_2:\n",
        "      print('Draw')\n",
        "   elif (Player_1 == 'rock' and Player_2 == 'scissors') or (Player_1 == 'scissors' and Player_2 == 'paper') or (Player_1 == 'paper' and Player_2 == 'rock'):\n",
        "       print('You win!')\n",
        "   else:\n",
        "       print('You lose...')\n",
        "   c = input('Would you like to play another game?')"
      ],
      "cell_type": "code",
      "metadata": {
        "colab": {
          "base_uri": "https://localhost:8080/"
        },
        "id": "RdrjkKg6-vvD",
        "outputId": "d336474b-ce66-4df4-ed38-830b8dcfbbb7"
      },
      "execution_count": null,
      "outputs": [
        {
          "name": "stdout",
          "output_type": "stream",
          "text": [
            "Would you like to play a game?yes\n",
            "Choose a sign to throw (rock/paper/scissors):rock\n",
            "Computer chooses paper\n",
            "You lose...\n",
            "Would you like to play another game?yes\n",
            "Choose a sign to throw (rock/paper/scissors):paper\n",
            "Computer chooses paper\n",
            "Draw\n",
            "Would you like to play another game?yes\n",
            "Choose a sign to throw (rock/paper/scissors):scissors\n",
            "Computer chooses scissors\n",
            "Draw\n",
            "Would you like to play another game?yes\n",
            "Choose a sign to throw (rock/paper/scissors):rock\n",
            "Computer chooses rock\n",
            "Draw\n",
            "Would you like to play another game?yes\n",
            "Choose a sign to throw (rock/paper/scissors):rock\n",
            "Computer chooses paper\n",
            "You lose...\n",
            "Would you like to play another game?yes\n",
            "Choose a sign to throw (rock/paper/scissors):paper\n",
            "Computer chooses scissors\n",
            "You lose...\n",
            "Would you like to play another game?yes\n",
            "Choose a sign to throw (rock/paper/scissors):paper\n",
            "Computer chooses paper\n",
            "Draw\n",
            "Would you like to play another game?yes\n",
            "Choose a sign to throw (rock/paper/scissors):rock\n",
            "Computer chooses rock\n",
            "Draw\n",
            "Would you like to play another game?yes\n",
            "Choose a sign to throw (rock/paper/scissors):rock\n",
            "Computer chooses rock\n",
            "Draw\n",
            "Would you like to play another game?yes\n",
            "Choose a sign to throw (rock/paper/scissors):scissors\n",
            "Computer chooses scissors\n",
            "Draw\n",
            "Would you like to play another game?yes\n",
            "Choose a sign to throw (rock/paper/scissors):paper\n",
            "Computer chooses scissors\n",
            "You lose...\n",
            "Would you like to play another game?yes\n",
            "Choose a sign to throw (rock/paper/scissors):paper\n",
            "Computer chooses rock\n",
            "You win!\n",
            "Would you like to play another game?no\n"
          ]
        }
      ]
    },
    {
      "cell_type": "code",
      "source": [
        "pflat_rate = 5\n",
        "\n",
        "for t in range(1, 9):\n",
        "   charge = pflat_rate + 2.5 * t\n",
        "   if charge < 10:\n",
        "if charge < 10:\n",
        "   print(charge)  # Assuming you want to print the charge if it's less than 10\n",
        "   charge = 10\n",
        "elif charge > 20:\n",
        "   charge = 20\n",
        "print (t,charge)\n",
        "\n",
        "1 10\n",
        "2 10\n",
        "3 12.5\n",
        "4 15\n",
        "5 17.5\n",
        "6 20\n",
        "7 20\n",
        "8 20\n",
        "\n"
      ],
      "metadata": {
        "colab": {
          "base_uri": "https://localhost:8080/",
          "height": 110
        },
        "id": "RLHetkiVFTyw",
        "outputId": "c1cd8f67-6f0a-4dc0-9147-839c7934770f"
      },
      "execution_count": null,
      "outputs": [
        {
          "output_type": "error",
          "ename": "IndentationError",
          "evalue": "expected an indented block after 'if' statement on line 5 (<ipython-input-5-88b650383558>, line 6)",
          "traceback": [
            "\u001b[0;36m  File \u001b[0;32m\"<ipython-input-5-88b650383558>\"\u001b[0;36m, line \u001b[0;32m6\u001b[0m\n\u001b[0;31m    if charge < 10:\u001b[0m\n\u001b[0m                   ^\u001b[0m\n\u001b[0;31mIndentationError\u001b[0m\u001b[0;31m:\u001b[0m expected an indented block after 'if' statement on line 5\n"
          ]
        }
      ]
    }
  ]
}